{
 "cells": [
  {
   "cell_type": "code",
   "execution_count": 1,
   "id": "5bd318b3-9197-479e-ba6e-2a75d2f9b671",
   "metadata": {
    "ExecuteTime": {
     "end_time": "2024-04-03T22:17:34.957998800Z",
     "start_time": "2024-04-03T22:17:26.299513700Z"
    }
   },
   "outputs": [
    {
     "name": "stderr",
     "output_type": "stream",
     "text": [
      "DEPRECATION: Loading egg at c:\\users\\xtsta\\.conda\\envs\\xtstars_0\\lib\\site-packages\\easy_tpp-0.0.6-py3.11.egg is deprecated. pip 23.3 will enforce this behaviour change. A possible replacement is to use pip for package installation..\n",
      "DEPRECATION: Loading egg at c:\\users\\xtsta\\.conda\\envs\\xtstars_0\\lib\\site-packages\\google_auth-1.35.0-py3.11.egg is deprecated. pip 23.3 will enforce this behaviour change. A possible replacement is to use pip for package installation..\n",
      "DEPRECATION: Loading egg at c:\\users\\xtsta\\.conda\\envs\\xtstars_0\\lib\\site-packages\\pyasn1_modules-0.3.0-py3.11.egg is deprecated. pip 23.3 will enforce this behaviour change. A possible replacement is to use pip for package installation..\n"
     ]
    }
   ],
   "source": [
    "!pip install -q -U google-generativeai"
   ]
  },
  {
   "cell_type": "code",
   "execution_count": 15,
   "id": "ba351e4f-5a69-4976-86bc-91d58f9b37f0",
   "metadata": {
    "ExecuteTime": {
     "end_time": "2024-04-05T17:16:43.364618Z",
     "start_time": "2024-04-05T17:16:43.354457800Z"
    }
   },
   "outputs": [],
   "source": [
    "import google.generativeai as genai"
   ]
  },
  {
   "cell_type": "code",
   "execution_count": 16,
   "id": "2969ff8f-91db-4eb2-9e5f-3c4f4d20a80e",
   "metadata": {
    "ExecuteTime": {
     "end_time": "2024-04-05T17:16:44.769026Z",
     "start_time": "2024-04-05T17:16:44.762811Z"
    }
   },
   "outputs": [],
   "source": [
    "from IPython.display import display\n",
    "from IPython.display import Markdown\n",
    "\n",
    "\n",
    "def to_markdown(text):\n",
    "  text = text.replace('', '  *')\n",
    "  return Markdown(textwrap.indent(text, '> ', predicate=lambda _: True))"
   ]
  },
  {
   "cell_type": "code",
   "execution_count": 17,
   "id": "1f4ae3f3-e5ad-4db5-bc8c-47773f7b5633",
   "metadata": {
    "ExecuteTime": {
     "end_time": "2024-04-05T17:16:45.466474700Z",
     "start_time": "2024-04-05T17:16:45.461893Z"
    }
   },
   "outputs": [],
   "source": [
    "genai.configure(api_key='')\n"
   ]
  },
  {
   "cell_type": "code",
   "execution_count": 18,
   "id": "5fd6dcab-340b-4fe5-af96-49289536e9a9",
   "metadata": {
    "ExecuteTime": {
     "end_time": "2024-04-05T17:16:49.584944Z",
     "start_time": "2024-04-05T17:16:49.584441300Z"
    }
   },
   "outputs": [],
   "source": [
    "model = genai.GenerativeModel('gemini-pro')\n"
   ]
  },
  {
   "cell_type": "code",
   "execution_count": 14,
   "id": "b031cdf6-c50a-4666-8844-7fad770a1d3f",
   "metadata": {
    "ExecuteTime": {
     "end_time": "2024-04-05T17:15:49.985298200Z",
     "start_time": "2024-04-05T17:15:49.973886200Z"
    }
   },
   "outputs": [],
   "source": [
    "sentence0 = \"give me a travel plan from miami to orlando, print out location of stops in python list format\" \n",
    "sentence1 = \"give me a travel plan from miami to orlando, print out only location of stops in python list format\"\n",
    "sentence2 = \"give me a travel plan from miami to orlando, print out only location of stops in python list format, print out another list of distance between them\"\n",
    "sentence4 = \"give me a travel plan from miami to orlando, print out only location of stops in python list format as locations = [], print out another list of distance between them distance = [], print out a recommended place to visit at each stop as place =\"\n",
    "\n",
    "sentences = [ sentence0, sentence1, sentence2 ] "
   ]
  },
  {
   "cell_type": "code",
   "execution_count": 25,
   "id": "cfd1e9ba-4285-4a66-be1e-96b1426c3e75",
   "metadata": {
    "ExecuteTime": {
     "end_time": "2024-04-05T17:21:04.236722400Z",
     "start_time": "2024-04-05T17:21:02.713684400Z"
    }
   },
   "outputs": [
    {
     "name": "stdout",
     "output_type": "stream",
     "text": [
      "locations = ['Fort Pierce, FL', 'Cocoa, FL']\n",
      "distance = [120, 40]\n",
      "place = ['Navy SEAL Museum', 'Kennedy Space Center']\n",
      "moneycost = [120]\n",
      "timecost = [3]\n",
      "\n"
     ]
    }
   ],
   "source": [
    "xts_sentences = \"give me a travel plan from miami to orlando, print out only location of 2 stops in python list format as locations = [] (2 items), print out another list of 3 number distance between them distance = [] (2 items), print out a recommended place to visit at each stop as place = and output the approximated money cost = [] (1 items), approximated time cost = [] (1 items), strictly follow the format as below: \\\"locations = [\\'Dallas, TX\\', \\'Nashville, TN\\']\\ndistance = [1400, 1800]\\nplace = [\\'The Sixth Floor Museum at Dealey Plaza\\', \\'Grand Ole Opry\\']\\nmoneycost = [800]\\ntimecost = [3]\\\",  \\\"locations = [\\'Memphis, TN\\', \\'Dallas, TX\\']\\ndistance = [531, 386]\\nplace = [\\'Graceland\\', \\'The Sixth Floor Museum at Dealey Plaza\\']\\nmoneycost = [800]\\ntimecost = [3]\\\"\"\n",
    "\n",
    "response = model.generate_content(xts_sentences)\n",
    "result = response.candidates[0].content.parts[0].text\n",
    "print( result ) \n",
    "print( \"\\n\\n\\n\") "
   ]
  },
  {
   "cell_type": "code",
   "execution_count": 11,
   "id": "6626e920-57dd-4901-92ee-39aa2a3885ab",
   "metadata": {
    "ExecuteTime": {
     "end_time": "2024-04-03T22:18:04.634590Z",
     "start_time": "2024-04-03T22:18:04.629404300Z"
    }
   },
   "outputs": [
    {
     "name": "stdout",
     "output_type": "stream",
     "text": [
      "145\n"
     ]
    }
   ],
   "source": [
    "distances = [15, 25, 30, 15, 20, 25, 15]\n",
    "print( sum(distances)) "
   ]
  },
  {
   "cell_type": "code",
   "execution_count": 12,
   "id": "8b6714e6-828c-482b-b244-620ef60c854b",
   "metadata": {
    "ExecuteTime": {
     "end_time": "2024-04-03T22:18:06.398092900Z",
     "start_time": "2024-04-03T22:18:05.443178600Z"
    }
   },
   "outputs": [
    {
     "data": {
      "text/plain": "'Approximately 112 miles (180 kilometers)'"
     },
     "execution_count": 12,
     "metadata": {},
     "output_type": "execute_result"
    }
   ],
   "source": [
    "def gemini_ask( sentence ) : \n",
    "    response = model.generate_content(sentence)\n",
    "    result = response.candidates[0].content.parts[0].text\n",
    "    return result \n",
    "\n",
    "gemini_ask('tell me the distance from gainesville to orlando')\n"
   ]
  },
  {
   "cell_type": "code",
   "execution_count": 13,
   "id": "b449ed14-9a2d-4c3f-9f02-d4f58d59ead4",
   "metadata": {
    "ExecuteTime": {
     "end_time": "2024-04-03T22:18:08.213211100Z",
     "start_time": "2024-04-03T22:18:07.222227100Z"
    }
   },
   "outputs": [
    {
     "data": {
      "text/plain": "'Approximately 344 miles (553 kilometers)'"
     },
     "execution_count": 13,
     "metadata": {},
     "output_type": "execute_result"
    }
   ],
   "source": [
    "gemini_ask('tell me how far is gainesville from miami')"
   ]
  },
  {
   "cell_type": "code",
   "execution_count": null,
   "id": "d9fe03ea-874c-4a82-a1e0-72f17bd2c62b",
   "metadata": {},
   "outputs": [],
   "source": []
  }
 ],
 "metadata": {
  "kernelspec": {
   "display_name": "Python 3 (ipykernel)",
   "language": "python",
   "name": "python3"
  },
  "language_info": {
   "codemirror_mode": {
    "name": "ipython",
    "version": 3
   },
   "file_extension": ".py",
   "mimetype": "text/x-python",
   "name": "python",
   "nbconvert_exporter": "python",
   "pygments_lexer": "ipython3",
   "version": "3.11.7"
  }
 },
 "nbformat": 4,
 "nbformat_minor": 5
}
