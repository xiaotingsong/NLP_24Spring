{
 "cells": [
  {
   "cell_type": "code",
   "execution_count": 4,
   "id": "b1c75bd9-cb12-4559-ace6-190ad13259db",
   "metadata": {},
   "outputs": [
    {
     "name": "stdout",
     "output_type": "stream",
     "text": [
      "1. Start in Miami, FL\n",
      "2. Stop at Fort Lauderdale, FL for a quick breakfast\n",
      "3. Continue driving to West Palm Beach, FL\n",
      "4. Take a break and visit Lion Country Safari near Loxahatchee, FL\n",
      "5. Resume journey to Orlando, FL\n",
      "6. Arrive in Orlando and explore the theme parks\n"
     ]
    }
   ],
   "source": [
    "travel_plan = [\n",
    "    \"Start in Miami, FL\",\n",
    "    \"Stop at Fort Lauderdale, FL for a quick breakfast\",\n",
    "    \"Continue driving to West Palm Beach, FL\",\n",
    "    \"Take a break and visit Lion Country Safari near Loxahatchee, FL\",\n",
    "    \"Resume journey to Orlando, FL\",\n",
    "    \"Arrive in Orlando and explore the theme parks\"\n",
    "]\n",
    "\n",
    "# Print out the travel plan\n",
    "for stop_num, stop in enumerate(travel_plan, start=1):\n",
    "    print(f\"{stop_num}. {stop}\")\n"
   ]
  },
  {
   "cell_type": "code",
   "execution_count": 5,
   "id": "5efab8bb-20e2-4cec-965f-bf9a6de8cb5e",
   "metadata": {},
   "outputs": [
    {
     "name": "stdout",
     "output_type": "stream",
     "text": [
      "1. Miami, FL\n",
      "2. Fort Lauderdale, FL\n",
      "3. West Palm Beach, FL\n",
      "4. Loxahatchee, FL (Lion Country Safari)\n",
      "5. Orlando, FL\n"
     ]
    }
   ],
   "source": [
    "stops_locations = [\n",
    "    \"Miami, FL\",\n",
    "    \"Fort Lauderdale, FL\",\n",
    "    \"West Palm Beach, FL\",\n",
    "    \"Loxahatchee, FL (Lion Country Safari)\",\n",
    "    \"Orlando, FL\"\n",
    "]\n",
    "\n",
    "# Print out the locations of stops\n",
    "for stop_num, location in enumerate(stops_locations, start=1):\n",
    "    print(f\"{stop_num}. {location}\")\n"
   ]
  },
  {
   "cell_type": "code",
   "execution_count": null,
   "id": "99ce2896-6def-4b86-8704-6ad193a155a9",
   "metadata": {},
   "outputs": [],
   "source": []
  },
  {
   "cell_type": "code",
   "execution_count": null,
   "id": "602ee4a6-f9b1-4d9a-8248-32574f238a63",
   "metadata": {},
   "outputs": [],
   "source": []
  }
 ],
 "metadata": {
  "kernelspec": {
   "display_name": "Python 3 (ipykernel)",
   "language": "python",
   "name": "python3"
  },
  "language_info": {
   "codemirror_mode": {
    "name": "ipython",
    "version": 3
   },
   "file_extension": ".py",
   "mimetype": "text/x-python",
   "name": "python",
   "nbconvert_exporter": "python",
   "pygments_lexer": "ipython3",
   "version": "3.11.7"
  }
 },
 "nbformat": 4,
 "nbformat_minor": 5
}
