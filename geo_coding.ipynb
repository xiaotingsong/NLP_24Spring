{
 "cells": [
  {
   "cell_type": "code",
   "execution_count": 13,
   "id": "71091168-30a4-46e4-9e0b-80a996c7e1e7",
   "metadata": {},
   "outputs": [],
   "source": [
    "gapi = ''"
   ]
  },
  {
   "cell_type": "code",
   "execution_count": 14,
   "id": "94985f59-730f-426a-89b5-a5834995e065",
   "metadata": {},
   "outputs": [],
   "source": [
    "import requests\n",
    "\n",
    "def ask(pos) : \n",
    "    addr = 'https://maps.googleapis.com/maps/api/geocode/json?address={}&key={}'.format(pos,gapi)\n",
    "    response = requests.get(addr) \n",
    "    return response\n"
   ]
  },
  {
   "cell_type": "code",
   "execution_count": 15,
   "id": "af037979-a5ef-4881-9edf-aa7eb95d7b4c",
   "metadata": {},
   "outputs": [],
   "source": [
    "response = ask('disneyland+orlando')"
   ]
  },
  {
   "cell_type": "code",
   "execution_count": 16,
   "id": "d0165fc3-a66e-4073-976d-1eda58dbddba",
   "metadata": {},
   "outputs": [
    {
     "data": {
      "text/plain": [
       "{'location': {'lat': 28.3771857, 'lng': -81.57074},\n",
       " 'location_type': 'GEOMETRIC_CENTER',\n",
       " 'viewport': {'northeast': {'lat': 28.4120024, 'lng': -81.5056647},\n",
       "  'southwest': {'lat': 28.3327753, 'lng': -81.60691849999999}}}"
      ]
     },
     "execution_count": 16,
     "metadata": {},
     "output_type": "execute_result"
    }
   ],
   "source": [
    "response.json()['results'][0]['geometry']"
   ]
  },
  {
   "cell_type": "code",
   "execution_count": 17,
   "id": "1e802021-1611-4c08-962e-a145c7848bbc",
   "metadata": {},
   "outputs": [],
   "source": [
    "response = ask('universal resorts+orlando')"
   ]
  },
  {
   "cell_type": "code",
   "execution_count": 18,
   "id": "6d914927-16dd-4e34-9754-80b39eac9939",
   "metadata": {},
   "outputs": [
    {
     "data": {
      "text/plain": [
       "{'bounds': {'northeast': {'lat': 28.6142797, 'lng': -81.17779999999999},\n",
       "  'southwest': {'lat': 28.3480667, 'lng': -81.5075304}},\n",
       " 'location': {'lat': 28.5383832, 'lng': -81.3789269},\n",
       " 'location_type': 'APPROXIMATE',\n",
       " 'viewport': {'northeast': {'lat': 28.6142797, 'lng': -81.17779999999999},\n",
       "  'southwest': {'lat': 28.3480667, 'lng': -81.5075304}}}"
      ]
     },
     "execution_count": 18,
     "metadata": {},
     "output_type": "execute_result"
    }
   ],
   "source": [
    "response.json()['results'][0]['geometry']"
   ]
  },
  {
   "cell_type": "code",
   "execution_count": 19,
   "id": "9a08b43e-55d6-4b86-8719-a10ab7ac8108",
   "metadata": {},
   "outputs": [
    {
     "data": {
      "text/plain": [
       "{'lat': 29.6256658, 'lng': -82.3706924}"
      ]
     },
     "execution_count": 19,
     "metadata": {},
     "output_type": "execute_result"
    }
   ],
   "source": [
    "ask('sohao + gainesville + florida').json()['results'][0]['geometry']['location']"
   ]
  },
  {
   "cell_type": "code",
   "execution_count": 22,
   "id": "0983fb3b-dc8c-42c6-a02a-cb1852bb0eb5",
   "metadata": {},
   "outputs": [
    {
     "data": {
      "text/plain": [
       "{'lat': 33.748752, 'lng': -84.38768449999999}"
      ]
     },
     "execution_count": 22,
     "metadata": {},
     "output_type": "execute_result"
    }
   ],
   "source": [
    "ask('Atlanta ').json()['results'][0]['geometry']['location']"
   ]
  },
  {
   "cell_type": "code",
   "execution_count": null,
   "id": "214c592e-cc26-4601-a5c1-894e8249e4ef",
   "metadata": {},
   "outputs": [],
   "source": []
  }
 ],
 "metadata": {
  "kernelspec": {
   "display_name": "Python 3 (ipykernel)",
   "language": "python",
   "name": "python3"
  },
  "language_info": {
   "codemirror_mode": {
    "name": "ipython",
    "version": 3
   },
   "file_extension": ".py",
   "mimetype": "text/x-python",
   "name": "python",
   "nbconvert_exporter": "python",
   "pygments_lexer": "ipython3",
   "version": "3.11.7"
  }
 },
 "nbformat": 4,
 "nbformat_minor": 5
}
